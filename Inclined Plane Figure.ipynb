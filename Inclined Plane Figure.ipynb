{
 "metadata": {
  "gist_id": "5167166",
  "name": "Inclined Plane Figure"
 },
 "nbformat": 3,
 "nbformat_minor": 0,
 "worksheets": [
  {
   "cells": [
    {
     "cell_type": "code",
     "collapsed": false,
     "input": [
      "%pylab inline"
     ],
     "language": "python",
     "metadata": {},
     "outputs": []
    },
    {
     "cell_type": "code",
     "collapsed": false,
     "input": [
      "offset = 0.1\n",
      "height = 0.75\n",
      "\n",
      "plt.plot([0, 1], [offset, offset + height], 'k')\n",
      "plt.text(.125, offset + 0.025, r'$\\theta$')\n",
      "plt.annotate('', xy=(.16, offset + .12), xytext=(.2, offset), arrowprops=dict(\n",
      "    arrowstyle='->',\n",
      "    connectionstyle='arc3,rad=.2',\n",
      "    ec='k'\n",
      "    ))\n",
      "plt.ylim(0,1)\n",
      "plt.hlines(offset, 0, 1)\n",
      "ax = gca()\n",
      "ax.set_axis_bgcolor('white')\n",
      "ax.set_axis_off()\n",
      "\n",
      "plt.vlines(0.8, offset,offset+0.6)\n",
      "plt.text(0.4, 0.45, '$d$', ha=\"center\")\n",
      "plt.text(0.79, 0.35, r'$d$ $sin(\\theta)$', ha=\"right\")\n",
      "plt.text(0.4, offset-.05, r'$d$ $cos(\\theta)$', ha=\"center\")\n",
      "\n",
      "r = 0.1\n",
      "start = (0.8, 0.7)\n",
      "center_x = start[0] - r * .6\n",
      "center_y = start[1] + r * .8\n",
      "center = (center_x, center_y)\n",
      "ax.add_patch(plt.Circle(xy=center, radius=r, fc='white', ec='k'))\n",
      "\n",
      "#ax.annotate(r'', xy=center,\n",
      "#                xytext=(center_x + 1.5 * .8 * r, center_y - 2 * .8 * r),\n",
      "#                arrowprops=dict(arrowstyle=\"<-\",\n",
      "#                                ec=\"k\",\n",
      "#    )\n",
      "#)\n",
      "\n",
      "ax.annotate(r'', xy=center,\n",
      "                xytext=(center_x - 2 * .6 * r, center_y - 1.5 * .6 * r),\n",
      "                arrowprops=dict(arrowstyle=\"<-\",\n",
      "                                ec=\"k\",\n",
      "    )\n",
      ")\n",
      "\n",
      "ax.annotate(r'', xy=center,\n",
      "                xytext=(center_x, center_y -2 * r),\n",
      "                arrowprops=dict(arrowstyle=\"<-\",\n",
      "                                ec=\"k\",\n",
      "    )\n",
      ")\n",
      "ax.text(center_x, center_y - 2.2 * r, \"$mg$\", ha='center')\n",
      "ax.text(center_x - 2 * .6 * r, center_y - 1.6 * .6 * r,\n",
      "    r'$mg$ $sin(\\theta)$',\n",
      "    ha='right',\n",
      ")\n",
      "#ax.text(center_x + 1.5 * .8 * r, center_y - 2.1 * .8 * r,\n",
      "#    r'$mg$ $cos(\\theta)$',\n",
      "#)\n",
      "fig = gcf()\n",
      "fig.set_size_inches(4,4)\n",
      "fig.savefig(\"incline.png\", dpi=240)"
     ],
     "language": "python",
     "metadata": {},
     "outputs": [
      {
       "output_type": "display_data",
       "png": "[encoded data removed]",
       "text": [
        "<matplotlib.figure.Figure at 0x10871c5d0>"
       ]
      }
     ],
     "prompt_number": 2
    },
    {
     "cell_type": "code",
     "collapsed": false,
     "input": [],
     "language": "python",
     "metadata": {},
     "outputs": []
    }
   ],
   "metadata": {}
  }
 ]
}