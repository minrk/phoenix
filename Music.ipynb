{
 "metadata": {
  "name": "Music"
 },
 "nbformat": 3,
 "nbformat_minor": 0,
 "worksheets": [
  {
   "cells": [
    {
     "cell_type": "heading",
     "level": 1,
     "metadata": {},
     "source": [
      "Playing Music on the Phoenix"
     ]
    },
    {
     "cell_type": "markdown",
     "metadata": {},
     "source": [
      "For this notebook, you will need a [Phoenix](http://www.iuac.res.in/~elab/phoenix/) box with a speaker\n",
      "connected to PWG / GND,\n",
      "and optionally an LED at Digital Output D3 / GND."
     ]
    },
    {
     "cell_type": "code",
     "collapsed": false,
     "input": [
      "import os, sys, time"
     ],
     "language": "python",
     "metadata": {},
     "outputs": [],
     "prompt_number": 1
    },
    {
     "cell_type": "code",
     "collapsed": false,
     "input": [
      "import phm\n",
      "p = phm.phm()"
     ],
     "language": "python",
     "metadata": {},
     "outputs": [
      {
       "output_type": "stream",
       "stream": "stdout",
       "text": [
        "Could not find Phoenix-M on RS232 or USB ports\n",
        "Check hardware connections.\n"
       ]
      }
     ],
     "prompt_number": 2
    },
    {
     "cell_type": "markdown",
     "metadata": {},
     "source": [
      "Notes table from [here](http://www.phy.mtu.edu/~suits/notefreqs.html)"
     ]
    },
    {
     "cell_type": "code",
     "collapsed": false,
     "input": [
      "import pandas\n",
      "notes_csv = pandas.read_csv('notes.csv', sep='\\t')\n",
      "notes = {}\n",
      "for note, freq in zip(notes_csv.name, notes_csv.frequency):\n",
      "    notes[note] = freq"
     ],
     "language": "python",
     "metadata": {},
     "outputs": [],
     "prompt_number": 4
    },
    {
     "cell_type": "code",
     "collapsed": false,
     "input": [
      "notes_csv[:4]"
     ],
     "language": "python",
     "metadata": {},
     "outputs": [
      {
       "html": [
        "<div style=\"max-height:1000px;max-width:1500px;overflow:auto;\">\n",
        "<table border=\"1\" class=\"dataframe\">\n",
        "  <thead>\n",
        "    <tr style=\"text-align: right;\">\n",
        "      <th></th>\n",
        "      <th>name</th>\n",
        "      <th>frequency</th>\n",
        "      <th>wavelength</th>\n",
        "    </tr>\n",
        "  </thead>\n",
        "  <tbody>\n",
        "    <tr>\n",
        "      <td><strong>0</strong></td>\n",
        "      <td>  C0</td>\n",
        "      <td> 16.35</td>\n",
        "      <td> 2100</td>\n",
        "    </tr>\n",
        "    <tr>\n",
        "      <td><strong>1</strong></td>\n",
        "      <td> Cs0</td>\n",
        "      <td> 17.32</td>\n",
        "      <td> 1990</td>\n",
        "    </tr>\n",
        "    <tr>\n",
        "      <td><strong>2</strong></td>\n",
        "      <td> Db0</td>\n",
        "      <td> 17.32</td>\n",
        "      <td> 1990</td>\n",
        "    </tr>\n",
        "    <tr>\n",
        "      <td><strong>3</strong></td>\n",
        "      <td>  D0</td>\n",
        "      <td> 18.35</td>\n",
        "      <td> 1870</td>\n",
        "    </tr>\n",
        "  </tbody>\n",
        "</table>\n",
        "</div>"
       ],
       "output_type": "pyout",
       "prompt_number": 5,
       "text": [
        "  name  frequency  wavelength\n",
        "0   C0      16.35        2100\n",
        "1  Cs0      17.32        1990\n",
        "2  Db0      17.32        1990\n",
        "3   D0      18.35        1870"
       ]
      }
     ],
     "prompt_number": 5
    },
    {
     "cell_type": "markdown",
     "metadata": {},
     "source": [
      "A global variable setting the tempo in bpm"
     ]
    },
    {
     "cell_type": "code",
     "collapsed": false,
     "input": [
      "tempo = 160"
     ],
     "language": "python",
     "metadata": {},
     "outputs": [],
     "prompt_number": 20
    },
    {
     "cell_type": "markdown",
     "metadata": {},
     "source": [
      "Some utility functions for playing notes / rests on the Phoenix"
     ]
    },
    {
     "cell_type": "code",
     "collapsed": false,
     "input": [
      "shutup = lambda : p.set_frequency(0)\n",
      "\n",
      "def play_note(name, beats=1):\n",
      "    return play_frequency(notes[name], beats)\n",
      "\n",
      "def play_frequency(freq, beats=1):\n",
      "    p.write_outputs(0b1000)\n",
      "    p.set_frequency(freq)\n",
      "    time.sleep(beats * 60./tempo)\n",
      "    p.set_frequency(0)\n",
      "    p.write_outputs(0b0000)\n",
      "\n",
      "def rest(beats=1):\n",
      "    time.sleep(beats * 60. / tempo)"
     ],
     "language": "python",
     "metadata": {},
     "outputs": [],
     "prompt_number": 14
    },
    {
     "cell_type": "markdown",
     "metadata": {},
     "source": [
      "Now we can play simple notes by name, or specific frequencies"
     ]
    },
    {
     "cell_type": "code",
     "collapsed": false,
     "input": [
      "play_note('C4')"
     ],
     "language": "python",
     "metadata": {},
     "outputs": [],
     "prompt_number": 12
    },
    {
     "cell_type": "code",
     "collapsed": false,
     "input": [
      "play_frequency(400)"
     ],
     "language": "python",
     "metadata": {},
     "outputs": [],
     "prompt_number": 15
    },
    {
     "cell_type": "markdown",
     "metadata": {},
     "source": [
      "Here is a class for representing a note.\n",
      "This is just a simple wrapper for a name and a frequency,\n",
      "which will play its note when you call it."
     ]
    },
    {
     "cell_type": "code",
     "collapsed": false,
     "input": [
      "class Note(object):\n",
      "    name = None\n",
      "    frequency = 0\n",
      "    def __init__(self, name, freq):\n",
      "        self.name = name\n",
      "        self.frequency = freq\n",
      "    \n",
      "    def __hash__(self):\n",
      "        return self.freq\n",
      "    \n",
      "    def __call__(self, beats=1):\n",
      "        play_frequency(self.frequency, beats)"
     ],
     "language": "python",
     "metadata": {},
     "outputs": [],
     "prompt_number": 17
    },
    {
     "cell_type": "markdown",
     "metadata": {},
     "source": [
      "Now assign all of these notes to variables,\n",
      "so that our global namespace is filled with callable notes"
     ]
    },
    {
     "cell_type": "code",
     "collapsed": false,
     "input": [
      "g = globals()\n",
      "for name, freq in notes.items():\n",
      "    g[name] = Note(name, freq)\n"
     ],
     "language": "python",
     "metadata": {},
     "outputs": [],
     "prompt_number": 18
    },
    {
     "cell_type": "markdown",
     "metadata": {},
     "source": [
      "So we can just call note names to play notes"
     ]
    },
    {
     "cell_type": "code",
     "collapsed": false,
     "input": [
      "C4()\n",
      "C4()\n",
      "D4()\n",
      "E4()\n",
      "E4()"
     ],
     "language": "python",
     "metadata": {},
     "outputs": [],
     "prompt_number": 21
    },
    {
     "cell_type": "markdown",
     "metadata": {},
     "source": [
      "Now a function that parses a string into a sequence of notes and their durations."
     ]
    },
    {
     "cell_type": "code",
     "collapsed": false,
     "input": [
      "def play_tune(tune_s, octave=4):\n",
      "    notelist = tune_s.split()\n",
      "    for note in notelist:\n",
      "        if ':' in note:\n",
      "            note, beats = note.split(':')\n",
      "            beats = float(beats)\n",
      "        else:\n",
      "            beats = 1\n",
      "        if note == 'r':\n",
      "            rest(beats)\n",
      "            continue\n",
      "        if not note[-1].isdigit():\n",
      "            note = note + str(octave)\n",
      "        play_note(note, beats)"
     ],
     "language": "python",
     "metadata": {},
     "outputs": [],
     "prompt_number": 24
    },
    {
     "cell_type": "markdown",
     "metadata": {},
     "source": [
      "With this, we can write a simple version of Ode to Joy\n",
      "in a few lines of Python."
     ]
    },
    {
     "cell_type": "code",
     "collapsed": false,
     "input": [
      "bar1 = 'E E F G G F E D C C D E E:1.5 D:.5 D:2'\n",
      "bar2 = 'E E F G G F E D C C D E D:1.5 C:.5 C:2'\n",
      "bar3 = 'D D E C D E:.5 F:.5 E C D E:.5 F:.5 E D C D G3:2'\n",
      "\n",
      "play_tune(bar1)\n",
      "\n",
      "play_tune(bar2)\n",
      "\n",
      "play_tune(bar3)"
     ],
     "language": "python",
     "metadata": {},
     "outputs": [],
     "prompt_number": 36
    }
   ],
   "metadata": {}
  }
 ]
}